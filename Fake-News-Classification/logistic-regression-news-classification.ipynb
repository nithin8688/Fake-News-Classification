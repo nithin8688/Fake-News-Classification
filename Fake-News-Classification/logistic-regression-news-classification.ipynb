{
 "cells": [
  {
   "cell_type": "code",
   "execution_count": 9,
   "id": "4a1d67be",
   "metadata": {
    "papermill": {
     "duration": 3.45154,
     "end_time": "2024-06-13T07:24:58.394460",
     "exception": false,
     "start_time": "2024-06-13T07:24:54.942920",
     "status": "completed"
    },
    "tags": []
   },
   "outputs": [],
   "source": [
    "import seaborn as sns\n",
    "import operator as op\n",
    "import matplotlib.pyplot as plt\n",
    "import numpy as np ##for arrays\n",
    "import pandas as pd ## for dataframe\n",
    "import re ##searching words\n",
    "from nltk.corpus import stopwords## words that dont add value like \"the,a,were\"\n",
    "from nltk.stem.porter import PorterStemmer##give rootwords of a particular word\n",
    "from sklearn.feature_extraction.text import TfidfVectorizer ##convert text into feature vectors\n",
    "from sklearn.model_selection import train_test_split ## splitting data into train,test\n",
    "from sklearn.linear_model import LogisticRegression ## ML model\n",
    "from sklearn.metrics import accuracy_score## accuracy"
   ]
  },
  {
   "cell_type": "code",
   "execution_count": 10,
   "id": "b0a58095-0068-4029-9d64-9b6c6144a0d9",
   "metadata": {},
   "outputs": [],
   "source": [
    "# pip install scikit-learn"
   ]
  },
  {
   "cell_type": "code",
   "execution_count": 11,
   "id": "02c294bf",
   "metadata": {
    "papermill": {
     "duration": 0.016683,
     "end_time": "2024-06-13T07:24:58.419218",
     "exception": false,
     "start_time": "2024-06-13T07:24:58.402535",
     "status": "completed"
    },
    "tags": []
   },
   "outputs": [
    {
     "name": "stderr",
     "output_type": "stream",
     "text": [
      "[nltk_data] Downloading package stopwords to\n",
      "[nltk_data]     C:\\Users\\User\\AppData\\Roaming\\nltk_data...\n",
      "[nltk_data]   Package stopwords is already up-to-date!\n"
     ]
    },
    {
     "data": {
      "text/plain": [
       "True"
      ]
     },
     "execution_count": 11,
     "metadata": {},
     "output_type": "execute_result"
    }
   ],
   "source": [
    "import nltk\n",
    "nltk.download('stopwords') # downloading all the stopwords if not already present"
   ]
  },
  {
   "cell_type": "code",
   "execution_count": 12,
   "id": "6475bad7",
   "metadata": {
    "papermill": {
     "duration": 0.023534,
     "end_time": "2024-06-13T07:24:58.450534",
     "exception": false,
     "start_time": "2024-06-13T07:24:58.427000",
     "status": "completed"
    },
    "tags": []
   },
   "outputs": [
    {
     "name": "stdout",
     "output_type": "stream",
     "text": [
      "['i', 'me', 'my', 'myself', 'we', 'our', 'ours', 'ourselves', 'you', \"you're\", \"you've\", \"you'll\", \"you'd\", 'your', 'yours', 'yourself', 'yourselves', 'he', 'him', 'his', 'himself', 'she', \"she's\", 'her', 'hers', 'herself', 'it', \"it's\", 'its', 'itself', 'they', 'them', 'their', 'theirs', 'themselves', 'what', 'which', 'who', 'whom', 'this', 'that', \"that'll\", 'these', 'those', 'am', 'is', 'are', 'was', 'were', 'be', 'been', 'being', 'have', 'has', 'had', 'having', 'do', 'does', 'did', 'doing', 'a', 'an', 'the', 'and', 'but', 'if', 'or', 'because', 'as', 'until', 'while', 'of', 'at', 'by', 'for', 'with', 'about', 'against', 'between', 'into', 'through', 'during', 'before', 'after', 'above', 'below', 'to', 'from', 'up', 'down', 'in', 'out', 'on', 'off', 'over', 'under', 'again', 'further', 'then', 'once', 'here', 'there', 'when', 'where', 'why', 'how', 'all', 'any', 'both', 'each', 'few', 'more', 'most', 'other', 'some', 'such', 'no', 'nor', 'not', 'only', 'own', 'same', 'so', 'than', 'too', 'very', 's', 't', 'can', 'will', 'just', 'don', \"don't\", 'should', \"should've\", 'now', 'd', 'll', 'm', 'o', 're', 've', 'y', 'ain', 'aren', \"aren't\", 'couldn', \"couldn't\", 'didn', \"didn't\", 'doesn', \"doesn't\", 'hadn', \"hadn't\", 'hasn', \"hasn't\", 'haven', \"haven't\", 'isn', \"isn't\", 'ma', 'mightn', \"mightn't\", 'mustn', \"mustn't\", 'needn', \"needn't\", 'shan', \"shan't\", 'shouldn', \"shouldn't\", 'wasn', \"wasn't\", 'weren', \"weren't\", 'won', \"won't\", 'wouldn', \"wouldn't\"]\n"
     ]
    }
   ],
   "source": [
    "print(stopwords.words('english')) # printing the stopwords in English"
   ]
  },
  {
   "cell_type": "code",
   "execution_count": 13,
   "id": "01ac4825",
   "metadata": {
    "papermill": {
     "duration": 3.46081,
     "end_time": "2024-06-13T07:25:01.920140",
     "exception": false,
     "start_time": "2024-06-13T07:24:58.459330",
     "status": "completed"
    },
    "tags": []
   },
   "outputs": [],
   "source": [
    "# loading the dataset to a pandas DataFrame\n",
    "train = pd.read_csv('C:/Fleetronix/ML/Batch 2/Fake-News-Classification-using-LSTM-master/Fake-News-Classification-using-LSTM-master/train.csv')\n",
    "test = pd.read_csv('C:/Fleetronix/ML/Batch 2/Fake-News-Classification-using-LSTM-master/Fake-News-Classification-using-LSTM-master/test.csv')"
   ]
  },
  {
   "cell_type": "code",
   "execution_count": 14,
   "id": "e087b19f",
   "metadata": {
    "papermill": {
     "duration": 0.031024,
     "end_time": "2024-06-13T07:25:01.959048",
     "exception": false,
     "start_time": "2024-06-13T07:25:01.928024",
     "status": "completed"
    },
    "tags": []
   },
   "outputs": [
    {
     "data": {
      "text/html": [
       "<div>\n",
       "<style scoped>\n",
       "    .dataframe tbody tr th:only-of-type {\n",
       "        vertical-align: middle;\n",
       "    }\n",
       "\n",
       "    .dataframe tbody tr th {\n",
       "        vertical-align: top;\n",
       "    }\n",
       "\n",
       "    .dataframe thead th {\n",
       "        text-align: right;\n",
       "    }\n",
       "</style>\n",
       "<table border=\"1\" class=\"dataframe\">\n",
       "  <thead>\n",
       "    <tr style=\"text-align: right;\">\n",
       "      <th></th>\n",
       "      <th>id</th>\n",
       "      <th>title</th>\n",
       "      <th>author</th>\n",
       "      <th>text</th>\n",
       "      <th>label</th>\n",
       "    </tr>\n",
       "  </thead>\n",
       "  <tbody>\n",
       "    <tr>\n",
       "      <th>0</th>\n",
       "      <td>0</td>\n",
       "      <td>House Dem Aide: We Didn’t Even See Comey’s Let...</td>\n",
       "      <td>Darrell Lucus</td>\n",
       "      <td>House Dem Aide: We Didn’t Even See Comey’s Let...</td>\n",
       "      <td>1</td>\n",
       "    </tr>\n",
       "    <tr>\n",
       "      <th>1</th>\n",
       "      <td>1</td>\n",
       "      <td>FLYNN: Hillary Clinton, Big Woman on Campus - ...</td>\n",
       "      <td>Daniel J. Flynn</td>\n",
       "      <td>Ever get the feeling your life circles the rou...</td>\n",
       "      <td>0</td>\n",
       "    </tr>\n",
       "    <tr>\n",
       "      <th>2</th>\n",
       "      <td>2</td>\n",
       "      <td>Why the Truth Might Get You Fired</td>\n",
       "      <td>Consortiumnews.com</td>\n",
       "      <td>Why the Truth Might Get You Fired October 29, ...</td>\n",
       "      <td>1</td>\n",
       "    </tr>\n",
       "    <tr>\n",
       "      <th>3</th>\n",
       "      <td>3</td>\n",
       "      <td>15 Civilians Killed In Single US Airstrike Hav...</td>\n",
       "      <td>Jessica Purkiss</td>\n",
       "      <td>Videos 15 Civilians Killed In Single US Airstr...</td>\n",
       "      <td>1</td>\n",
       "    </tr>\n",
       "    <tr>\n",
       "      <th>4</th>\n",
       "      <td>4</td>\n",
       "      <td>Iranian woman jailed for fictional unpublished...</td>\n",
       "      <td>Howard Portnoy</td>\n",
       "      <td>Print \\nAn Iranian woman has been sentenced to...</td>\n",
       "      <td>1</td>\n",
       "    </tr>\n",
       "  </tbody>\n",
       "</table>\n",
       "</div>"
      ],
      "text/plain": [
       "   id                                              title              author  \\\n",
       "0   0  House Dem Aide: We Didn’t Even See Comey’s Let...       Darrell Lucus   \n",
       "1   1  FLYNN: Hillary Clinton, Big Woman on Campus - ...     Daniel J. Flynn   \n",
       "2   2                  Why the Truth Might Get You Fired  Consortiumnews.com   \n",
       "3   3  15 Civilians Killed In Single US Airstrike Hav...     Jessica Purkiss   \n",
       "4   4  Iranian woman jailed for fictional unpublished...      Howard Portnoy   \n",
       "\n",
       "                                                text  label  \n",
       "0  House Dem Aide: We Didn’t Even See Comey’s Let...      1  \n",
       "1  Ever get the feeling your life circles the rou...      0  \n",
       "2  Why the Truth Might Get You Fired October 29, ...      1  \n",
       "3  Videos 15 Civilians Killed In Single US Airstr...      1  \n",
       "4  Print \\nAn Iranian woman has been sentenced to...      1  "
      ]
     },
     "execution_count": 14,
     "metadata": {},
     "output_type": "execute_result"
    }
   ],
   "source": [
    "# print the first 5 rows of the dataframe\n",
    "train.head()"
   ]
  },
  {
   "cell_type": "code",
   "execution_count": 15,
   "id": "9f4e6f90",
   "metadata": {
    "papermill": {
     "duration": 0.024507,
     "end_time": "2024-06-13T07:25:01.991871",
     "exception": false,
     "start_time": "2024-06-13T07:25:01.967364",
     "status": "completed"
    },
    "tags": []
   },
   "outputs": [
    {
     "data": {
      "text/html": [
       "<div>\n",
       "<style scoped>\n",
       "    .dataframe tbody tr th:only-of-type {\n",
       "        vertical-align: middle;\n",
       "    }\n",
       "\n",
       "    .dataframe tbody tr th {\n",
       "        vertical-align: top;\n",
       "    }\n",
       "\n",
       "    .dataframe thead th {\n",
       "        text-align: right;\n",
       "    }\n",
       "</style>\n",
       "<table border=\"1\" class=\"dataframe\">\n",
       "  <thead>\n",
       "    <tr style=\"text-align: right;\">\n",
       "      <th></th>\n",
       "      <th>id</th>\n",
       "      <th>title</th>\n",
       "      <th>author</th>\n",
       "      <th>text</th>\n",
       "    </tr>\n",
       "  </thead>\n",
       "  <tbody>\n",
       "    <tr>\n",
       "      <th>0</th>\n",
       "      <td>20800</td>\n",
       "      <td>Specter of Trump Loosens Tongues, if Not Purse...</td>\n",
       "      <td>David Streitfeld</td>\n",
       "      <td>PALO ALTO, Calif.  —   After years of scorning...</td>\n",
       "    </tr>\n",
       "    <tr>\n",
       "      <th>1</th>\n",
       "      <td>20801</td>\n",
       "      <td>Russian warships ready to strike terrorists ne...</td>\n",
       "      <td>NaN</td>\n",
       "      <td>Russian warships ready to strike terrorists ne...</td>\n",
       "    </tr>\n",
       "    <tr>\n",
       "      <th>2</th>\n",
       "      <td>20802</td>\n",
       "      <td>#NoDAPL: Native American Leaders Vow to Stay A...</td>\n",
       "      <td>Common Dreams</td>\n",
       "      <td>Videos #NoDAPL: Native American Leaders Vow to...</td>\n",
       "    </tr>\n",
       "    <tr>\n",
       "      <th>3</th>\n",
       "      <td>20803</td>\n",
       "      <td>Tim Tebow Will Attempt Another Comeback, This ...</td>\n",
       "      <td>Daniel Victor</td>\n",
       "      <td>If at first you don’t succeed, try a different...</td>\n",
       "    </tr>\n",
       "    <tr>\n",
       "      <th>4</th>\n",
       "      <td>20804</td>\n",
       "      <td>Keiser Report: Meme Wars (E995)</td>\n",
       "      <td>Truth Broadcast Network</td>\n",
       "      <td>42 mins ago 1 Views 0 Comments 0 Likes 'For th...</td>\n",
       "    </tr>\n",
       "  </tbody>\n",
       "</table>\n",
       "</div>"
      ],
      "text/plain": [
       "      id                                              title  \\\n",
       "0  20800  Specter of Trump Loosens Tongues, if Not Purse...   \n",
       "1  20801  Russian warships ready to strike terrorists ne...   \n",
       "2  20802  #NoDAPL: Native American Leaders Vow to Stay A...   \n",
       "3  20803  Tim Tebow Will Attempt Another Comeback, This ...   \n",
       "4  20804                    Keiser Report: Meme Wars (E995)   \n",
       "\n",
       "                    author                                               text  \n",
       "0         David Streitfeld  PALO ALTO, Calif.  —   After years of scorning...  \n",
       "1                      NaN  Russian warships ready to strike terrorists ne...  \n",
       "2            Common Dreams  Videos #NoDAPL: Native American Leaders Vow to...  \n",
       "3            Daniel Victor  If at first you don’t succeed, try a different...  \n",
       "4  Truth Broadcast Network  42 mins ago 1 Views 0 Comments 0 Likes 'For th...  "
      ]
     },
     "execution_count": 15,
     "metadata": {},
     "output_type": "execute_result"
    }
   ],
   "source": [
    "test.head()"
   ]
  },
  {
   "cell_type": "code",
   "execution_count": 16,
   "id": "3646300f",
   "metadata": {
    "papermill": {
     "duration": 0.034289,
     "end_time": "2024-06-13T07:25:02.034759",
     "exception": false,
     "start_time": "2024-06-13T07:25:02.000470",
     "status": "completed"
    },
    "tags": []
   },
   "outputs": [
    {
     "name": "stdout",
     "output_type": "stream",
     "text": [
      "id           0\n",
      "title      558\n",
      "author    1957\n",
      "text        39\n",
      "label        0\n",
      "dtype: int64\n",
      "id          0\n",
      "title     122\n",
      "author    503\n",
      "text        7\n",
      "dtype: int64\n"
     ]
    }
   ],
   "source": [
    "# counting the number of missing values in the dataset\n",
    "print(train.isnull().sum())\n",
    "print(test.isnull().sum())"
   ]
  },
  {
   "cell_type": "code",
   "execution_count": 17,
   "id": "c6d7cb86",
   "metadata": {
    "papermill": {
     "duration": 0.038346,
     "end_time": "2024-06-13T07:25:02.082134",
     "exception": false,
     "start_time": "2024-06-13T07:25:02.043788",
     "status": "completed"
    },
    "tags": []
   },
   "outputs": [],
   "source": [
    "# replacing the null values with empty string\n",
    "train = train.fillna('')\n",
    "test = test.fillna('')"
   ]
  },
  {
   "cell_type": "code",
   "execution_count": 18,
   "id": "f91fa562",
   "metadata": {
    "papermill": {
     "duration": 0.033514,
     "end_time": "2024-06-13T07:25:02.124220",
     "exception": false,
     "start_time": "2024-06-13T07:25:02.090706",
     "status": "completed"
    },
    "tags": []
   },
   "outputs": [],
   "source": [
    "X = train['author'] + ' ' + train['title']\n",
    "X_test = test['author'] + ' ' + test['title']"
   ]
  },
  {
   "cell_type": "code",
   "execution_count": 19,
   "id": "220e5413",
   "metadata": {
    "papermill": {
     "duration": 0.020564,
     "end_time": "2024-06-13T07:25:02.153447",
     "exception": false,
     "start_time": "2024-06-13T07:25:02.132883",
     "status": "completed"
    },
    "scrolled": true,
    "tags": []
   },
   "outputs": [
    {
     "name": "stdout",
     "output_type": "stream",
     "text": [
      "0    Darrell Lucus House Dem Aide: We Didn’t Even S...\n",
      "1    Daniel J. Flynn FLYNN: Hillary Clinton, Big Wo...\n",
      "2    Consortiumnews.com Why the Truth Might Get You...\n",
      "3    Jessica Purkiss 15 Civilians Killed In Single ...\n",
      "4    Howard Portnoy Iranian woman jailed for fictio...\n",
      "dtype: object\n",
      "0    David Streitfeld Specter of Trump Loosens Tong...\n",
      "1     Russian warships ready to strike terrorists n...\n",
      "2    Common Dreams #NoDAPL: Native American Leaders...\n",
      "3    Daniel Victor Tim Tebow Will Attempt Another C...\n",
      "4    Truth Broadcast Network Keiser Report: Meme Wa...\n",
      "dtype: object\n"
     ]
    }
   ],
   "source": [
    "print(X.head())\n",
    "print(X_test.head())"
   ]
  },
  {
   "cell_type": "code",
   "execution_count": 20,
   "id": "9a5aec20",
   "metadata": {
    "papermill": {
     "duration": 0.018938,
     "end_time": "2024-06-13T07:25:02.181207",
     "exception": false,
     "start_time": "2024-06-13T07:25:02.162269",
     "status": "completed"
    },
    "tags": []
   },
   "outputs": [],
   "source": [
    "Y = train['label'] # storing label in Y"
   ]
  },
  {
   "cell_type": "code",
   "execution_count": 21,
   "id": "df988c08",
   "metadata": {
    "papermill": {
     "duration": 0.019743,
     "end_time": "2024-06-13T07:25:02.210586",
     "exception": false,
     "start_time": "2024-06-13T07:25:02.190843",
     "status": "completed"
    },
    "scrolled": true,
    "tags": []
   },
   "outputs": [
    {
     "name": "stdout",
     "output_type": "stream",
     "text": [
      "0    1\n",
      "1    0\n",
      "2    1\n",
      "3    1\n",
      "4    1\n",
      "Name: label, dtype: int64\n"
     ]
    }
   ],
   "source": [
    "print(Y.head())"
   ]
  },
  {
   "cell_type": "code",
   "execution_count": 22,
   "id": "b3cd643a",
   "metadata": {
    "papermill": {
     "duration": 64.06597,
     "end_time": "2024-06-13T07:26:06.285472",
     "exception": false,
     "start_time": "2024-06-13T07:25:02.219502",
     "status": "completed"
    },
    "tags": []
   },
   "outputs": [],
   "source": [
    "port_stem = PorterStemmer() # creating instance\n",
    "def stemming(content):\n",
    "    stemmed_content = re.sub('[^a-zA-Z]',' ',content) # replace anything other than a_z with ' '\n",
    "    stemmed_content = stemmed_content.lower() # convert to lower case \n",
    "    stemmed_content = stemmed_content.split() # split all the words to list\n",
    "    stemmed_content = [port_stem.stem(word) for word in stemmed_content if not word in stopwords.words('english')] # stemming + removing stopwords\n",
    "    stemmed_content = ' '.join(stemmed_content) # again joining all words with ' '\n",
    "    return stemmed_content\n",
    "\n",
    "X = X.apply(stemming)\n",
    "X_test = X_test.apply(stemming)"
   ]
  },
  {
   "cell_type": "code",
   "execution_count": 23,
   "id": "1c6c375f",
   "metadata": {
    "papermill": {
     "duration": 0.019933,
     "end_time": "2024-06-13T07:26:06.315054",
     "exception": false,
     "start_time": "2024-06-13T07:26:06.295121",
     "status": "completed"
    },
    "tags": []
   },
   "outputs": [
    {
     "name": "stdout",
     "output_type": "stream",
     "text": [
      "0    darrel lucu hous dem aid even see comey letter...\n",
      "1    daniel j flynn flynn hillari clinton big woman...\n",
      "2               consortiumnew com truth might get fire\n",
      "3    jessica purkiss civilian kill singl us airstri...\n",
      "4    howard portnoy iranian woman jail fiction unpu...\n",
      "dtype: object 0    david streitfeld specter trump loosen tongu pu...\n",
      "1    russian warship readi strike terrorist near al...\n",
      "2    common dream nodapl nativ american leader vow ...\n",
      "3    daniel victor tim tebow attempt anoth comeback...\n",
      "4     truth broadcast network keiser report meme war e\n",
      "dtype: object\n"
     ]
    }
   ],
   "source": [
    "print(X.head(), X_test.head())"
   ]
  },
  {
   "cell_type": "code",
   "execution_count": 24,
   "id": "f9de5a59",
   "metadata": {
    "papermill": {
     "duration": 0.017797,
     "end_time": "2024-06-13T07:26:06.341738",
     "exception": false,
     "start_time": "2024-06-13T07:26:06.323941",
     "status": "completed"
    },
    "tags": []
   },
   "outputs": [],
   "source": [
    "X = X.values # Data Array\n",
    "Y = Y.values # Label\n",
    "X_test = X_test.values"
   ]
  },
  {
   "cell_type": "code",
   "execution_count": 25,
   "id": "c970c36d",
   "metadata": {
    "papermill": {
     "duration": 0.020131,
     "end_time": "2024-06-13T07:26:06.371057",
     "exception": false,
     "start_time": "2024-06-13T07:26:06.350926",
     "status": "completed"
    },
    "tags": []
   },
   "outputs": [
    {
     "name": "stdout",
     "output_type": "stream",
     "text": [
      "['darrel lucu hous dem aid even see comey letter jason chaffetz tweet'\n",
      " 'daniel j flynn flynn hillari clinton big woman campu breitbart'\n",
      " 'consortiumnew com truth might get fire' ...\n",
      " 'michael j de la merc rachel abram maci said receiv takeov approach hudson bay new york time'\n",
      " 'alex ansari nato russia hold parallel exercis balkan'\n",
      " 'david swanson keep f aliv']\n",
      "[1 0 1 ... 0 1 1]\n"
     ]
    }
   ],
   "source": [
    "print(X)\n",
    "print(Y)"
   ]
  },
  {
   "cell_type": "code",
   "execution_count": 26,
   "id": "8edce638",
   "metadata": {
    "papermill": {
     "duration": 0.530419,
     "end_time": "2024-06-13T07:26:06.910373",
     "exception": false,
     "start_time": "2024-06-13T07:26:06.379954",
     "status": "completed"
    },
    "tags": []
   },
   "outputs": [],
   "source": [
    "vectorizer = TfidfVectorizer()\n",
    "\n",
    "X = vectorizer.fit_transform(X)\n",
    "X_test = vectorizer.transform(X_test)"
   ]
  },
  {
   "cell_type": "code",
   "execution_count": 27,
   "id": "28d139af",
   "metadata": {
    "papermill": {
     "duration": 0.021824,
     "end_time": "2024-06-13T07:26:06.941678",
     "exception": false,
     "start_time": "2024-06-13T07:26:06.919854",
     "status": "completed"
    },
    "tags": []
   },
   "outputs": [
    {
     "name": "stdout",
     "output_type": "stream",
     "text": [
      "  (np.int32(0), np.int32(3600))\t0.3598939188262559\n",
      "  (np.int32(0), np.int32(8909))\t0.3635963806326075\n",
      "  (np.int32(0), np.int32(7005))\t0.21874169089359144\n",
      "  (np.int32(0), np.int32(3792))\t0.2705332480845492\n",
      "  (np.int32(0), np.int32(267))\t0.27010124977708766\n",
      "  (np.int32(0), np.int32(4973))\t0.233316966909351\n",
      "  (np.int32(0), np.int32(13473))\t0.2565896679337957\n",
      "  (np.int32(0), np.int32(2959))\t0.2468450128533713\n",
      "  (np.int32(0), np.int32(8630))\t0.29212514087043684\n",
      "  (np.int32(0), np.int32(7692))\t0.24785219520671603\n",
      "  (np.int32(0), np.int32(2483))\t0.3676519686797209\n",
      "  (np.int32(0), np.int32(15686))\t0.28485063562728646\n",
      "  (np.int32(1), np.int32(3568))\t0.26373768806048464\n",
      "  (np.int32(1), np.int32(5503))\t0.7143299355715573\n",
      "  (np.int32(1), np.int32(6816))\t0.1904660198296849\n",
      "  (np.int32(1), np.int32(2813))\t0.19094574062359204\n",
      "  (np.int32(1), np.int32(1497))\t0.2939891562094648\n",
      "  (np.int32(1), np.int32(16799))\t0.30071745655510157\n",
      "  (np.int32(1), np.int32(2223))\t0.3827320386859759\n",
      "  (np.int32(1), np.int32(1894))\t0.15521974226349364\n",
      "  (np.int32(2), np.int32(3103))\t0.46097489583229645\n",
      "  (np.int32(2), np.int32(2943))\t0.3179886800654691\n",
      "  (np.int32(2), np.int32(15611))\t0.41544962664721613\n",
      "  (np.int32(2), np.int32(9620))\t0.49351492943649944\n",
      "  (np.int32(2), np.int32(5968))\t0.3474613386728292\n",
      "  :\t:\n",
      "  (np.int32(20797), np.int32(9588))\t0.17455348025522197\n",
      "  (np.int32(20797), np.int32(7042))\t0.21799048897828685\n",
      "  (np.int32(20797), np.int32(3643))\t0.2115550061362374\n",
      "  (np.int32(20797), np.int32(8364))\t0.22322585870464115\n",
      "  (np.int32(20797), np.int32(9518))\t0.29542040034203126\n",
      "  (np.int32(20797), np.int32(12138))\t0.24778257724396505\n",
      "  (np.int32(20797), np.int32(14967))\t0.3115945315488075\n",
      "  (np.int32(20797), np.int32(12344))\t0.27263457663336677\n",
      "  (np.int32(20797), np.int32(13122))\t0.24825263521976057\n",
      "  (np.int32(20797), np.int32(1287))\t0.3353805680413986\n",
      "  (np.int32(20797), np.int32(699))\t0.3068584607976234\n",
      "  (np.int32(20797), np.int32(43))\t0.2971024186070062\n",
      "  (np.int32(20797), np.int32(8988))\t0.36160868928090795\n",
      "  (np.int32(20798), np.int32(13046))\t0.22363267488270608\n",
      "  (np.int32(20798), np.int32(10177))\t0.3192496370187028\n",
      "  (np.int32(20798), np.int32(6889))\t0.32496285694299426\n",
      "  (np.int32(20798), np.int32(11052))\t0.4460515589182236\n",
      "  (np.int32(20798), np.int32(350))\t0.28446937819072576\n",
      "  (np.int32(20798), np.int32(588))\t0.3112141524638974\n",
      "  (np.int32(20798), np.int32(5032))\t0.4083701450239529\n",
      "  (np.int32(20798), np.int32(1125))\t0.4460515589182236\n",
      "  (np.int32(20799), np.int32(8036))\t0.45983893273780013\n",
      "  (np.int32(20799), np.int32(3623))\t0.37927626273066584\n",
      "  (np.int32(20799), np.int32(14852))\t0.5677577267055112\n",
      "  (np.int32(20799), np.int32(377))\t0.5677577267055112\n"
     ]
    }
   ],
   "source": [
    "print(X)"
   ]
  },
  {
   "cell_type": "code",
   "execution_count": 28,
   "id": "ef9dd451",
   "metadata": {
    "papermill": {
     "duration": 0.023912,
     "end_time": "2024-06-13T07:26:06.974842",
     "exception": false,
     "start_time": "2024-06-13T07:26:06.950930",
     "status": "completed"
    },
    "tags": []
   },
   "outputs": [],
   "source": [
    "X_train, X_val, Y_train , Y_val = train_test_split(X, Y, test_size = 0.2, random_state=2)"
   ]
  },
  {
   "cell_type": "code",
   "execution_count": 29,
   "id": "761c8e0d",
   "metadata": {
    "papermill": {
     "duration": 0.672134,
     "end_time": "2024-06-13T07:26:07.656333",
     "exception": false,
     "start_time": "2024-06-13T07:26:06.984199",
     "status": "completed"
    },
    "tags": []
   },
   "outputs": [
    {
     "data": {
      "text/plain": [
       "array([1, 1, 1, ..., 1, 1, 1])"
      ]
     },
     "execution_count": 29,
     "metadata": {},
     "output_type": "execute_result"
    }
   ],
   "source": [
    "clf = LogisticRegression()\n",
    "clf.fit(X_train,Y_train)\n",
    "Y_pred = clf.predict(X_val)\n",
    "Y_pred"
   ]
  },
  {
   "cell_type": "code",
   "execution_count": 30,
   "id": "bdf79bbf",
   "metadata": {
    "papermill": {
     "duration": 0.057979,
     "end_time": "2024-06-13T07:26:07.753584",
     "exception": false,
     "start_time": "2024-06-13T07:26:07.695605",
     "status": "completed"
    },
    "tags": []
   },
   "outputs": [
    {
     "name": "stdout",
     "output_type": "stream",
     "text": [
      "Validation Accuracy: 0.9774038461538461\n"
     ]
    }
   ],
   "source": [
    "accuracy = accuracy_score(Y_val, Y_pred)\n",
    "print(f'Validation Accuracy: {accuracy}')"
   ]
  },
  {
   "cell_type": "code",
   "execution_count": 31,
   "id": "866db1d2",
   "metadata": {
    "papermill": {
     "duration": 0.029648,
     "end_time": "2024-06-13T07:26:07.794764",
     "exception": false,
     "start_time": "2024-06-13T07:26:07.765116",
     "status": "completed"
    },
    "tags": []
   },
   "outputs": [],
   "source": [
    "X_pred = clf.predict(X_test)\n",
    "output = pd.DataFrame({'id': test.id, 'label': X_pred})\n",
    "output.to_csv('submission.csv', index=False)"
   ]
  },
  {
   "cell_type": "code",
   "execution_count": null,
   "id": "bc5f8900-6cce-4675-a4df-20e51b16f94f",
   "metadata": {},
   "outputs": [],
   "source": []
  },
  {
   "cell_type": "code",
   "execution_count": null,
   "id": "e0f32712-744d-44f2-b660-ece28f3b0a75",
   "metadata": {},
   "outputs": [],
   "source": []
  }
 ],
 "metadata": {
  "kaggle": {
   "accelerator": "gpu",
   "dataSources": [
    {
     "databundleVersionId": 109592,
     "sourceId": 8317,
     "sourceType": "competition"
    }
   ],
   "dockerImageVersionId": 30664,
   "isGpuEnabled": true,
   "isInternetEnabled": false,
   "language": "python",
   "sourceType": "notebook"
  },
  "kernelspec": {
   "display_name": "Python 3 (ipykernel)",
   "language": "python",
   "name": "python3"
  },
  "language_info": {
   "codemirror_mode": {
    "name": "ipython",
    "version": 3
   },
   "file_extension": ".py",
   "mimetype": "text/x-python",
   "name": "python",
   "nbconvert_exporter": "python",
   "pygments_lexer": "ipython3",
   "version": "3.12.4"
  },
  "papermill": {
   "default_parameters": {},
   "duration": 76.589579,
   "end_time": "2024-06-13T07:26:08.525812",
   "environment_variables": {},
   "exception": null,
   "input_path": "__notebook__.ipynb",
   "output_path": "__notebook__.ipynb",
   "parameters": {},
   "start_time": "2024-06-13T07:24:51.936233",
   "version": "2.5.0"
  }
 },
 "nbformat": 4,
 "nbformat_minor": 5
}
